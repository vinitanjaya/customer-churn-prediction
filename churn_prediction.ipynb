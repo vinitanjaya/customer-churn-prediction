{
  "nbformat": 4,
  "nbformat_minor": 0,
  "metadata": {
    "colab": {
      "provenance": [],
      "mount_file_id": "1Xm8qM-E-B-5TXbYjqxxV7YHcbsDoFPrz",
      "authorship_tag": "ABX9TyOI9tiNaIh9twTTF6iaaNVS",
      "include_colab_link": true
    },
    "kernelspec": {
      "name": "python3",
      "display_name": "Python 3"
    },
    "language_info": {
      "name": "python"
    }
  },
  "cells": [
    {
      "cell_type": "markdown",
      "metadata": {
        "id": "view-in-github",
        "colab_type": "text"
      },
      "source": [
        "<a href=\"https://colab.research.google.com/github/vinitanjaya/customer-churn-prediction/blob/main/churn_prediction.ipynb\" target=\"_parent\"><img src=\"https://colab.research.google.com/assets/colab-badge.svg\" alt=\"Open In Colab\"/></a>"
      ]
    },
    {
      "cell_type": "code",
      "execution_count": null,
      "metadata": {
        "id": "0Ly9dwM4uyy9"
      },
      "outputs": [],
      "source": [
        "from pyspark.sql import SparkSession\n",
        "from pyspark.sql.functions import *"
      ]
    },
    {
      "cell_type": "code",
      "source": [
        "# initialize SparkSession\n",
        "spark = SparkSession.builder.getOrCreate()"
      ],
      "metadata": {
        "id": "c6dGLpocvLcO"
      },
      "execution_count": null,
      "outputs": []
    },
    {
      "cell_type": "code",
      "source": [
        "# load data\n",
        "df_train = spark.read.option(\"inferschema\", \"true\").csv(\"/content/drive/MyDrive/Churn_Prediction/dataset/Telco_Customer_Churn_Train.csv\", header=True)\n",
        "df_test= spark.read.option(\"inferschema\", \"true\").csv(\"/content/drive/MyDrive/Churn_Prediction/dataset/Telco_Customer_Churn_Test.csv\", header=True)\n",
        "\n",
        "df_train.show(3)\n",
        "df_test.show(3)\n",
        "\n",
        "df_train.dtypes"
      ],
      "metadata": {
        "colab": {
          "base_uri": "https://localhost:8080/"
        },
        "id": "ZfHQ8XQix0dE",
        "outputId": "ae1a93ef-9944-407a-c308-19d7d9a4bcb9"
      },
      "execution_count": null,
      "outputs": [
        {
          "output_type": "stream",
          "name": "stdout",
          "text": [
            "+----------+------+-------------+-------+----------+------+------------+----------------+---------------+--------------+------------+----------------+-----------+-----------+---------------+--------------+----------------+----------------+--------------+------------+-----+\n",
            "|customerID|gender|SeniorCitizen|Partner|Dependents|tenure|PhoneService|   MultipleLines|InternetService|OnlineSecurity|OnlineBackup|DeviceProtection|TechSupport|StreamingTV|StreamingMovies|      Contract|PaperlessBilling|   PaymentMethod|MonthlyCharges|TotalCharges|Churn|\n",
            "+----------+------+-------------+-------+----------+------+------------+----------------+---------------+--------------+------------+----------------+-----------+-----------+---------------+--------------+----------------+----------------+--------------+------------+-----+\n",
            "|7590-VHVEG|Female|            0|    Yes|        No|     1|          No|No phone service|            DSL|            No|         Yes|              No|         No|         No|             No|Month-to-month|             Yes|Electronic check|         29.85|       29.85|   No|\n",
            "|5575-GNVDE|  Male|            0|     No|        No|    34|         Yes|              No|            DSL|           Yes|          No|             Yes|         No|         No|             No|      One year|              No|    Mailed check|         56.95|      1889.5|   No|\n",
            "|3668-QPYBK|  Male|            0|     No|        No|     2|         Yes|              No|            DSL|           Yes|         Yes|              No|         No|         No|             No|Month-to-month|             Yes|    Mailed check|         53.85|      108.15|  Yes|\n",
            "+----------+------+-------------+-------+----------+------+------------+----------------+---------------+--------------+------------+----------------+-----------+-----------+---------------+--------------+----------------+----------------+--------------+------------+-----+\n",
            "only showing top 3 rows\n",
            "\n",
            "+----------+------+-------------+-------+----------+------+------------+-------------+---------------+--------------+------------+----------------+-----------+-----------+---------------+--------------+----------------+--------------------+--------------+------------+-----+\n",
            "|customerID|gender|SeniorCitizen|Partner|Dependents|tenure|PhoneService|MultipleLines|InternetService|OnlineSecurity|OnlineBackup|DeviceProtection|TechSupport|StreamingTV|StreamingMovies|      Contract|PaperlessBilling|       PaymentMethod|MonthlyCharges|TotalCharges|Churn|\n",
            "+----------+------+-------------+-------+----------+------+------------+-------------+---------------+--------------+------------+----------------+-----------+-----------+---------------+--------------+----------------+--------------------+--------------+------------+-----+\n",
            "|2055-BFOCC|  Male|            1|    Yes|        No|    63|         Yes|           No|            DSL|           Yes|         Yes|             Yes|        Yes|        Yes|            Yes|      One year|             Yes|Bank transfer (au...|          84.0|     5329.55|   No|\n",
            "|8180-AKMJV|Female|            0|     No|        No|     1|         Yes|           No|            DSL|            No|          No|              No|         No|         No|             No|Month-to-month|             Yes|Credit card (auto...|         44.55|       44.55|   No|\n",
            "|4298-OYIFC|  Male|            0|    Yes|        No|    15|         Yes|          Yes|    Fiber optic|            No|          No|             Yes|        Yes|        Yes|            Yes|Month-to-month|             Yes|    Electronic check|        103.45|      1539.8|   No|\n",
            "+----------+------+-------------+-------+----------+------+------------+-------------+---------------+--------------+------------+----------------+-----------+-----------+---------------+--------------+----------------+--------------------+--------------+------------+-----+\n",
            "only showing top 3 rows\n",
            "\n"
          ]
        },
        {
          "output_type": "execute_result",
          "data": {
            "text/plain": [
              "[('customerID', 'string'),\n",
              " ('gender', 'string'),\n",
              " ('SeniorCitizen', 'int'),\n",
              " ('Partner', 'string'),\n",
              " ('Dependents', 'string'),\n",
              " ('tenure', 'int'),\n",
              " ('PhoneService', 'string'),\n",
              " ('MultipleLines', 'string'),\n",
              " ('InternetService', 'string'),\n",
              " ('OnlineSecurity', 'string'),\n",
              " ('OnlineBackup', 'string'),\n",
              " ('DeviceProtection', 'string'),\n",
              " ('TechSupport', 'string'),\n",
              " ('StreamingTV', 'string'),\n",
              " ('StreamingMovies', 'string'),\n",
              " ('Contract', 'string'),\n",
              " ('PaperlessBilling', 'string'),\n",
              " ('PaymentMethod', 'string'),\n",
              " ('MonthlyCharges', 'double'),\n",
              " ('TotalCharges', 'string'),\n",
              " ('Churn', 'string')]"
            ]
          },
          "metadata": {},
          "execution_count": 3
        }
      ]
    },
    {
      "cell_type": "code",
      "source": [
        "# data preprocessing\n",
        "print(f'df_train: {df_train.count()}') # before drop na\n",
        "\n",
        "df_train = df_train.na.drop()\n",
        "df_test = df_test.na.drop()\n",
        "\n",
        "print(f'df_train: {df_train.count()}') # after drop na\n",
        "\n",
        "df_train = df_train.drop('customerID')\n",
        "df_test = df_test.drop('customerID')"
      ],
      "metadata": {
        "colab": {
          "base_uri": "https://localhost:8080/"
        },
        "id": "0wpCmvhCzcgN",
        "outputId": "1bc1e430-f935-42b0-b373-c36ac24a7425"
      },
      "execution_count": null,
      "outputs": [
        {
          "output_type": "stream",
          "name": "stdout",
          "text": [
            "df_train: 4929\n",
            "df_train: 4929\n"
          ]
        }
      ]
    },
    {
      "cell_type": "code",
      "source": [
        "# manual mapping for categorical variables to numerical values\n",
        "mappings = {\n",
        "    \"gender\": {\"Male\": 1, \"Female\": 0},\n",
        "    \"Partner\": {\"Yes\": 1, \"No\": 0},\n",
        "    \"Dependents\": {\"Yes\": 1, \"No\": 0},\n",
        "    \"PhoneService\": {\"Yes\": 1, \"No\": 0},\n",
        "    \"MultipleLines\": {\"Yes\": 1, \"No\": 0, \"No phone service\": 2},\n",
        "    \"InternetService\": {\"DSL\": 0, \"Fiber optic\": 1, \"No\": 2},\n",
        "    \"OnlineSecurity\": {\"Yes\": 1, \"No\": 0, \"No internet service\": 2},\n",
        "    \"OnlineBackup\": {\"Yes\": 1, \"No\": 0, \"No internet service\": 2},\n",
        "    \"DeviceProtection\": {\"Yes\": 1, \"No\": 0, \"No internet service\": 2},\n",
        "    \"TechSupport\": {\"Yes\": 1, \"No\": 0, \"No internet service\": 2},\n",
        "    \"StreamingTV\": {\"Yes\": 1, \"No\": 0, \"No internet service\": 2},\n",
        "    \"StreamingMovies\": {\"Yes\": 1, \"No\": 0, \"No internet service\": 2},\n",
        "    \"Contract\": {\"Month-to-month\": 0, \"One year\": 1, \"Two year\": 2},\n",
        "    \"PaperlessBilling\": {\"Yes\": 1, \"No\": 0},\n",
        "    \"PaymentMethod\": {\n",
        "        \"Electronic check\": 0,\n",
        "        \"Mailed check\": 1,\n",
        "        \"Bank transfer (automatic)\": 2,\n",
        "        \"Credit card (automatic)\": 3,\n",
        "    },\n",
        "    \"Churn\": {\"Yes\": 1, \"No\": 0}\n",
        "}\n",
        "\n",
        "from pyspark.sql.functions import col\n",
        "\n",
        "# convert TotalCharges column to float\n",
        "df_train = df_train.withColumn(\"TotalCharges\", col(\"TotalCharges\").cast(\"float\"))\n",
        "df_test  = df_test.withColumn(\"TotalCharges\", col(\"TotalCharges\").cast(\"float\"))\n",
        "\n",
        "df_train.select(\"TotalCharges\").printSchema()\n",
        "df_test.select(\"TotalCharges\").printSchema()\n",
        "\n",
        "def apply_mapping(df, mappings):\n",
        "    new_df = df\n",
        "    for col_name, mapping in mappings.items():\n",
        "        expr = None\n",
        "        for k, v in mapping.items():\n",
        "            condition = (df[col_name] == k)\n",
        "            if expr is None:\n",
        "                expr = when(condition, v)\n",
        "            else:\n",
        "                expr = expr.when(condition, v)\n",
        "        expr = expr.otherwise(0)\n",
        "        new_df = new_df.withColumn(col_name, expr)\n",
        "    return new_df\n",
        "\n",
        "# apply the transformation to training and test datasets\n",
        "df_train_mapped = apply_mapping(df_train, mappings)\n",
        "df_test_mapped = apply_mapping(df_test, mappings)\n",
        "\n",
        "df_train_mapped.show(5)\n",
        "df_test_mapped.show(5)\n"
      ],
      "metadata": {
        "colab": {
          "base_uri": "https://localhost:8080/"
        },
        "id": "Wr6GTKQT2_hh",
        "outputId": "c458791f-9fad-4bc8-d57a-7e1119f967d3"
      },
      "execution_count": null,
      "outputs": [
        {
          "output_type": "stream",
          "name": "stdout",
          "text": [
            "root\n",
            " |-- TotalCharges: float (nullable = true)\n",
            "\n",
            "root\n",
            " |-- TotalCharges: float (nullable = true)\n",
            "\n",
            "+------+-------------+-------+----------+------+------------+-------------+---------------+--------------+------------+----------------+-----------+-----------+---------------+--------+----------------+-------------+--------------+------------+-----+\n",
            "|gender|SeniorCitizen|Partner|Dependents|tenure|PhoneService|MultipleLines|InternetService|OnlineSecurity|OnlineBackup|DeviceProtection|TechSupport|StreamingTV|StreamingMovies|Contract|PaperlessBilling|PaymentMethod|MonthlyCharges|TotalCharges|Churn|\n",
            "+------+-------------+-------+----------+------+------------+-------------+---------------+--------------+------------+----------------+-----------+-----------+---------------+--------+----------------+-------------+--------------+------------+-----+\n",
            "|     0|            0|      1|         0|     1|           0|            2|              0|             0|           1|               0|          0|          0|              0|       0|               1|            0|         29.85|       29.85|    0|\n",
            "|     1|            0|      0|         0|    34|           1|            0|              0|             1|           0|               1|          0|          0|              0|       1|               0|            1|         56.95|      1889.5|    0|\n",
            "|     1|            0|      0|         0|     2|           1|            0|              0|             1|           1|               0|          0|          0|              0|       0|               1|            1|         53.85|      108.15|    1|\n",
            "|     1|            0|      0|         0|    45|           0|            2|              0|             1|           0|               1|          1|          0|              0|       1|               0|            2|          42.3|     1840.75|    0|\n",
            "|     0|            0|      0|         0|     2|           1|            0|              1|             0|           0|               0|          0|          0|              0|       0|               1|            0|          70.7|      151.65|    1|\n",
            "+------+-------------+-------+----------+------+------------+-------------+---------------+--------------+------------+----------------+-----------+-----------+---------------+--------+----------------+-------------+--------------+------------+-----+\n",
            "only showing top 5 rows\n",
            "\n",
            "+------+-------------+-------+----------+------+------------+-------------+---------------+--------------+------------+----------------+-----------+-----------+---------------+--------+----------------+-------------+--------------+------------+-----+\n",
            "|gender|SeniorCitizen|Partner|Dependents|tenure|PhoneService|MultipleLines|InternetService|OnlineSecurity|OnlineBackup|DeviceProtection|TechSupport|StreamingTV|StreamingMovies|Contract|PaperlessBilling|PaymentMethod|MonthlyCharges|TotalCharges|Churn|\n",
            "+------+-------------+-------+----------+------+------------+-------------+---------------+--------------+------------+----------------+-----------+-----------+---------------+--------+----------------+-------------+--------------+------------+-----+\n",
            "|     1|            1|      1|         0|    63|           1|            0|              0|             1|           1|               1|          1|          1|              1|       1|               1|            2|          84.0|     5329.55|    0|\n",
            "|     0|            0|      0|         0|     1|           1|            0|              0|             0|           0|               0|          0|          0|              0|       0|               1|            3|         44.55|       44.55|    0|\n",
            "|     1|            0|      1|         0|    15|           1|            1|              1|             0|           0|               1|          1|          1|              1|       0|               1|            0|        103.45|      1539.8|    0|\n",
            "|     1|            0|      1|         1|    27|           1|            0|              1|             1|           1|               0|          0|          0|              0|       1|               1|            3|         80.65|     2209.75|    0|\n",
            "|     0|            0|      0|         1|     4|           0|            2|              0|             1|           1|               1|          0|          1|              1|       0|               1|            1|          57.2|      223.75|    0|\n",
            "+------+-------------+-------+----------+------+------------+-------------+---------------+--------------+------------+----------------+-----------+-----------+---------------+--------+----------------+-------------+--------------+------------+-----+\n",
            "only showing top 5 rows\n",
            "\n"
          ]
        }
      ]
    },
    {
      "cell_type": "code",
      "source": [
        "df_train_mapped.printSchema()\n"
      ],
      "metadata": {
        "colab": {
          "base_uri": "https://localhost:8080/"
        },
        "id": "e4vEYAzjGu3B",
        "outputId": "bff37d71-4581-44d5-aef3-0b311996bff1"
      },
      "execution_count": null,
      "outputs": [
        {
          "output_type": "stream",
          "name": "stdout",
          "text": [
            "root\n",
            " |-- gender: integer (nullable = false)\n",
            " |-- SeniorCitizen: integer (nullable = true)\n",
            " |-- Partner: integer (nullable = false)\n",
            " |-- Dependents: integer (nullable = false)\n",
            " |-- tenure: integer (nullable = true)\n",
            " |-- PhoneService: integer (nullable = false)\n",
            " |-- MultipleLines: integer (nullable = false)\n",
            " |-- InternetService: integer (nullable = false)\n",
            " |-- OnlineSecurity: integer (nullable = false)\n",
            " |-- OnlineBackup: integer (nullable = false)\n",
            " |-- DeviceProtection: integer (nullable = false)\n",
            " |-- TechSupport: integer (nullable = false)\n",
            " |-- StreamingTV: integer (nullable = false)\n",
            " |-- StreamingMovies: integer (nullable = false)\n",
            " |-- Contract: integer (nullable = false)\n",
            " |-- PaperlessBilling: integer (nullable = false)\n",
            " |-- PaymentMethod: integer (nullable = false)\n",
            " |-- MonthlyCharges: double (nullable = true)\n",
            " |-- TotalCharges: float (nullable = true)\n",
            " |-- Churn: integer (nullable = false)\n",
            "\n"
          ]
        }
      ]
    },
    {
      "cell_type": "code",
      "source": [
        "# remove null values\n",
        "df_train_mapped = df_train_mapped.dropna()\n",
        "df_test_mapped  = df_test_mapped.dropna()\n"
      ],
      "metadata": {
        "id": "umPS8bsxI_mt"
      },
      "execution_count": null,
      "outputs": []
    },
    {
      "cell_type": "code",
      "source": [
        "# normalization\n",
        "from pyspark.ml.feature import VectorAssembler, StandardScaler\n",
        "\n",
        "cols = df_train_mapped.columns\n",
        "cols.remove(\"Churn\")\n",
        "\n",
        "vec_assembler = VectorAssembler(inputCols=cols, outputCol=\"Feature\")\n",
        "df_train_mapped = vec_assembler.transform(df_train_mapped)\n",
        "df_test_mapped = vec_assembler.transform(df_test_mapped)\n",
        "\n",
        "scaler = StandardScaler(inputCol=\"Feature\", outputCol=\"Scaled_Feature\")\n",
        "scaler_model = scaler.fit(df_train_mapped)\n",
        "\n",
        "df_train_mapped = scaler_model.transform(df_train_mapped)\n",
        "df_test_mapped = scaler_model.transform(df_test_mapped)\n",
        "\n",
        "df_train_mapped.show(5, False)"
      ],
      "metadata": {
        "colab": {
          "base_uri": "https://localhost:8080/"
        },
        "id": "oX-OfBvPKpsb",
        "outputId": "d706ef35-379e-4e66-a504-1b4459567bcb"
      },
      "execution_count": null,
      "outputs": [
        {
          "output_type": "stream",
          "name": "stdout",
          "text": [
            "+------+-------------+-------+----------+------+------------+-------------+---------------+--------------+------------+----------------+-----------+-----------+---------------+--------+----------------+-------------+--------------+------------+-----+----------------------------------------------------------------------------------+----------------------------------------------------------------------------------------------------------------------------------------------------------------------------------------------------------------------------+\n",
            "|gender|SeniorCitizen|Partner|Dependents|tenure|PhoneService|MultipleLines|InternetService|OnlineSecurity|OnlineBackup|DeviceProtection|TechSupport|StreamingTV|StreamingMovies|Contract|PaperlessBilling|PaymentMethod|MonthlyCharges|TotalCharges|Churn|Feature                                                                           |Scaled_Feature                                                                                                                                                                                                              |\n",
            "+------+-------------+-------+----------+------+------------+-------------+---------------+--------------+------------+----------------+-----------+-----------+---------------+--------+----------------+-------------+--------------+------------+-----+----------------------------------------------------------------------------------+----------------------------------------------------------------------------------------------------------------------------------------------------------------------------------------------------------------------------+\n",
            "|0     |0            |1      |0         |1     |0           |2            |0              |0             |1           |0               |0          |0          |0              |0       |1               |0            |29.85         |29.85       |0    |(19,[2,4,6,9,15,17,18],[1.0,1.0,2.0,1.0,1.0,29.85,29.850000381469727])            |(19,[2,4,6,9,15,17,18],[2.0013686980267584,0.04062061956434125,3.0858698134251434,1.2829710677581654,2.0324837320311278,0.9905541612038458,0.013148040849532444])                                                           |\n",
            "|1     |0            |0      |0         |34    |1           |0            |0              |1             |0           |1               |0          |0          |0              |1       |0               |1            |56.95         |1889.5      |0    |(19,[0,4,5,8,10,14,16,17,18],[1.0,34.0,1.0,1.0,1.0,1.0,1.0,56.95,1889.5])         |(19,[0,4,5,8,10,14,16,17,18],[1.9999821573454488,1.3811010651876026,3.475928047020206,1.2530092030639,1.2840651983092806,1.2010149290251555,0.8693036292260965,1.889851238879699,0.8322687727874778])                       |\n",
            "|1     |0            |0      |0         |2     |1           |0            |0              |1             |1           |0               |0          |0          |0              |0       |1               |1            |53.85         |108.15      |1    |(19,[0,4,5,8,9,15,16,17,18],[1.0,2.0,1.0,1.0,1.0,1.0,1.0,53.85,108.1500015258789])|(19,[0,4,5,8,9,15,16,17,18],[1.9999821573454488,0.0812412391286825,3.475928047020206,1.2530092030639,1.2829710677581654,2.0324837320311278,0.8693036292260965,1.7869796174481438,0.04763687168399422])                      |\n",
            "|1     |0            |0      |0         |45    |0           |2            |0              |1             |0           |1               |1          |0          |0              |1       |0               |2            |42.3          |1840.75     |0    |(19,[0,4,6,8,10,11,14,16,17,18],[1.0,45.0,2.0,1.0,1.0,1.0,1.0,2.0,42.3,1840.75])  |(19,[0,4,6,8,10,11,14,16,17,18],[1.9999821573454488,1.8279278803953563,3.0858698134251434,1.2530092030639,1.2840651983092806,1.2530092030638995,1.2010149290251555,1.738607258452193,1.4036998666305753,0.8107958420262237])|\n",
            "|0     |0            |0      |0         |2     |1           |0            |1              |0             |0           |0               |0          |0          |0              |0       |1               |0            |70.7          |151.65      |1    |(19,[4,5,7,15,17,18],[2.0,1.0,1.0,1.0,70.7,151.64999389648438])                   |(19,[4,5,7,15,17,18],[0.0812412391286825,3.475928047020206,1.3547680358044791,2.0324837320311278,2.3461366565196613,0.06679732961812943])                                                                                   |\n",
            "+------+-------------+-------+----------+------+------------+-------------+---------------+--------------+------------+----------------+-----------+-----------+---------------+--------+----------------+-------------+--------------+------------+-----+----------------------------------------------------------------------------------+----------------------------------------------------------------------------------------------------------------------------------------------------------------------------------------------------------------------------+\n",
            "only showing top 5 rows\n",
            "\n"
          ]
        }
      ]
    },
    {
      "cell_type": "code",
      "source": [
        "# generate model\n",
        "from pyspark.ml.classification import LogisticRegression\n",
        "\n",
        "model = LogisticRegression(featuresCol=\"Scaled_Feature\", labelCol=\"Churn\", maxIter=10).fit(df_train_mapped)"
      ],
      "metadata": {
        "id": "KcSv0HAzLfhF"
      },
      "execution_count": null,
      "outputs": []
    },
    {
      "cell_type": "code",
      "source": [
        "prediction = model.transform(df_test_mapped)\n",
        "prediction.select(\"Feature\", \"Churn\", \"prediction\").show(30, False)"
      ],
      "metadata": {
        "colab": {
          "base_uri": "https://localhost:8080/"
        },
        "id": "0oBAu7kmLssy",
        "outputId": "64c88996-326c-4a72-fc60-0013c8cab3b9"
      },
      "execution_count": null,
      "outputs": [
        {
          "output_type": "stream",
          "name": "stdout",
          "text": [
            "+-------------------------------------------------------------------------------------------------+-----+----------+\n",
            "|Feature                                                                                          |Churn|prediction|\n",
            "+-------------------------------------------------------------------------------------------------+-----+----------+\n",
            "|[1.0,1.0,1.0,0.0,63.0,1.0,0.0,0.0,1.0,1.0,1.0,1.0,1.0,1.0,1.0,1.0,2.0,84.0,5329.5498046875]      |0    |0.0       |\n",
            "|(19,[4,5,15,16,17,18],[1.0,1.0,1.0,3.0,44.55,44.54999923706055])                                 |0    |0.0       |\n",
            "|[1.0,0.0,1.0,0.0,15.0,1.0,1.0,1.0,0.0,0.0,1.0,1.0,1.0,1.0,0.0,1.0,0.0,103.45,1539.800048828125]  |0    |1.0       |\n",
            "|[1.0,0.0,1.0,1.0,27.0,1.0,0.0,1.0,1.0,1.0,0.0,0.0,0.0,0.0,1.0,1.0,3.0,80.65,2209.75]             |0    |0.0       |\n",
            "|[0.0,0.0,0.0,1.0,4.0,0.0,2.0,0.0,1.0,1.0,1.0,0.0,1.0,1.0,0.0,1.0,1.0,57.2,223.75]                |0    |0.0       |\n",
            "|[0.0,0.0,1.0,0.0,72.0,1.0,1.0,1.0,1.0,1.0,1.0,0.0,1.0,1.0,2.0,1.0,0.0,110.75,7751.7001953125]    |0    |0.0       |\n",
            "|[1.0,1.0,1.0,0.0,45.0,1.0,1.0,2.0,2.0,2.0,2.0,2.0,2.0,2.0,1.0,0.0,3.0,24.7,1174.3499755859375]   |0    |0.0       |\n",
            "|[0.0,1.0,0.0,0.0,45.0,1.0,1.0,1.0,1.0,1.0,0.0,1.0,1.0,0.0,0.0,1.0,0.0,97.05,4385.0498046875]     |0    |0.0       |\n",
            "|[0.0,0.0,0.0,0.0,36.0,1.0,0.0,0.0,1.0,1.0,1.0,1.0,1.0,0.0,1.0,1.0,1.0,76.35,2606.35009765625]    |0    |0.0       |\n",
            "|[1.0,0.0,1.0,1.0,17.0,1.0,0.0,1.0,1.0,0.0,1.0,0.0,1.0,0.0,0.0,1.0,0.0,89.4,1539.449951171875]    |1    |0.0       |\n",
            "|[1.0,0.0,0.0,0.0,1.0,1.0,0.0,2.0,2.0,2.0,2.0,2.0,2.0,2.0,0.0,0.0,1.0,18.9,18.899999618530273]    |0    |0.0       |\n",
            "|(19,[0,1,4,5,6,7,15,16,17,18],[1.0,1.0,16.0,1.0,1.0,1.0,1.0,2.0,74.45,1261.3499755859375])       |0    |1.0       |\n",
            "|[1.0,0.0,0.0,0.0,3.0,1.0,0.0,2.0,2.0,2.0,2.0,2.0,2.0,2.0,0.0,1.0,1.0,19.8,58.150001525878906]    |1    |0.0       |\n",
            "|(19,[0,2,3,4,5,6,15,17,18],[1.0,1.0,1.0,4.0,1.0,1.0,1.0,50.9,225.60000610351562])                |1    |0.0       |\n",
            "|[0.0,0.0,1.0,0.0,71.0,1.0,0.0,0.0,1.0,1.0,1.0,1.0,1.0,1.0,2.0,1.0,3.0,84.4,5969.2998046875]      |0    |0.0       |\n",
            "|[1.0,0.0,1.0,1.0,10.0,1.0,1.0,2.0,2.0,2.0,2.0,2.0,2.0,2.0,0.0,1.0,1.0,24.4,253.89999389648438]   |0    |0.0       |\n",
            "|[1.0,0.0,1.0,1.0,20.0,1.0,0.0,2.0,2.0,2.0,2.0,2.0,2.0,2.0,2.0,0.0,1.0,20.05,400.0]               |0    |0.0       |\n",
            "|(19,[0,4,5,7,12,15,17,18],[1.0,4.0,1.0,1.0,1.0,1.0,81.0,340.8500061035156])                      |1    |1.0       |\n",
            "|(19,[0,4,5,6,7,10,12,13,15,17,18],[1.0,26.0,1.0,1.0,1.0,1.0,1.0,1.0,1.0,98.35,2515.300048828125])|1    |1.0       |\n",
            "|(19,[4,5,12,16,17,18],[4.0,1.0,1.0,3.0,55.5,227.35000610351562])                                 |0    |0.0       |\n",
            "|(19,[0,4,6,9,12,13,15,16,17,18],[1.0,5.0,2.0,1.0,1.0,1.0,1.0,1.0,51.0,305.95001220703125])       |1    |1.0       |\n",
            "|(19,[2,4,5,6,7,9,12,15,17,18],[1.0,4.0,1.0,1.0,1.0,1.0,1.0,1.0,91.65,365.3999938964844])         |1    |1.0       |\n",
            "|(19,[0,1,2,4,5,6,7,13,15,17,18],[1.0,1.0,1.0,29.0,1.0,1.0,1.0,1.0,1.0,84.3,2357.75])             |0    |1.0       |\n",
            "|(19,[0,4,5,7,8,9,12,13,17,18],[1.0,2.0,1.0,1.0,1.0,1.0,1.0,1.0,100.2,198.5])                     |0    |1.0       |\n",
            "|[0.0,0.0,0.0,0.0,29.0,1.0,0.0,2.0,2.0,2.0,2.0,2.0,2.0,2.0,2.0,0.0,1.0,19.4,554.25]               |0    |0.0       |\n",
            "|(19,[0,3,4,5,7,12,13,15,17,18],[1.0,1.0,1.0,1.0,1.0,1.0,1.0,1.0,90.85,90.8499984741211])         |1    |1.0       |\n",
            "|(19,[0,4,5,7,16,17,18],[1.0,1.0,1.0,1.0,1.0,69.4,69.4000015258789])                              |1    |1.0       |\n",
            "|(19,[1,4,5,7,10,12,13,15,16,17,18],[1.0,8.0,1.0,1.0,1.0,1.0,1.0,1.0,3.0,94.45,742.9500122070312])|1    |1.0       |\n",
            "|[1.0,0.0,0.0,0.0,13.0,1.0,0.0,2.0,2.0,2.0,2.0,2.0,2.0,2.0,0.0,1.0,0.0,20.4,251.64999389648438]   |0    |0.0       |\n",
            "|(19,[2,4,5,6,7,8,9,12,15,17,18],[1.0,59.0,1.0,1.0,1.0,1.0,1.0,1.0,1.0,94.75,5597.64990234375])   |0    |0.0       |\n",
            "+-------------------------------------------------------------------------------------------------+-----+----------+\n",
            "only showing top 30 rows\n",
            "\n"
          ]
        }
      ]
    },
    {
      "cell_type": "code",
      "source": [
        "# model testing and evalutaion\n",
        "from pyspark.ml.evaluation import BinaryClassificationEvaluator\n",
        "\n",
        "evaluator = BinaryClassificationEvaluator(labelCol=\"Churn\")\n",
        "accuracy = evaluator.evaluate(prediction) * 100\n",
        "print(f\"Accuracy: {accuracy}\")"
      ],
      "metadata": {
        "colab": {
          "base_uri": "https://localhost:8080/"
        },
        "id": "cXDi_JCFMGGA",
        "outputId": "f73fbcd4-a111-4dcb-d5f9-b7fdc031cb11"
      },
      "execution_count": null,
      "outputs": [
        {
          "output_type": "stream",
          "name": "stdout",
          "text": [
            "Accuracy: 83.53228676321568\n"
          ]
        }
      ]
    }
  ]
}